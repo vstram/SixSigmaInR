{
 "cells": [
  {
   "cell_type": "markdown",
   "metadata": {},
   "source": [
    "Notebook que mostra procedimentos para a obtenção do Gráfico de Pareto a partir de um exemplo do livro **[Six Sigma: A Complete Step-by-Step Guide](https://www.sixsigmacouncil.org/wp-content/uploads/2018/08/Six-Sigma-A-Complete-Step-by-Step-Guide.pdf)**\n",
    "\n",
    "<!-- TEASER_END -->"
   ]
  },
  {
   "cell_type": "markdown",
   "metadata": {},
   "source": [
    "# Exemplos do livro Six Sigma: A Complete Step-by-Step Guide\n",
    "\n",
    "![Six Sigma: A Complete Step-by-Step Guide](https://raw.githubusercontent.com/vstram/SixSigmaInR/master/book_cover-small.jpg)"
   ]
  },
  {
   "cell_type": "markdown",
   "metadata": {},
   "source": [
    "## Conteúdo:\n",
    "* [Exercício](#Exercício)\n",
    "* [Procedimento](#Procedimento)\n",
    "* [Referências](#Referências)"
   ]
  },
  {
   "cell_type": "markdown",
   "metadata": {},
   "source": [
    "## Exercício\n",
    "\n",
    "Exemplo (pág 71), refere-se a uma clinica médica com problemas de caixa devido à recusas de serviço médico. As razões para as recusas estão listadas no arquivo \"ch05p071.txt\".\n",
    "\n",
    "Pede-se para plotar o Gráfico de Pareto para avaliar as principais causas deste problema."
   ]
  },
  {
   "cell_type": "markdown",
   "metadata": {},
   "source": [
    "## Procedimento\n",
    "\n",
    "1. Carregar os dados do arquivo"
   ]
  },
  {
   "cell_type": "markdown",
   "metadata": {},
   "source": [
    "Como etapa preliminar, é necessário importar as bibliotecas de código necessárias. Usaremos o `pandas` para manipular os dados e `matplotlib` para visualizá-los"
   ]
  },
  {
   "cell_type": "code",
   "execution_count": 31,
   "metadata": {},
   "outputs": [],
   "source": [
    "import pandas as pd\n",
    "import matplotlib.pyplot as plt\n",
    "from matplotlib.ticker import PercentFormatter"
   ]
  },
  {
   "cell_type": "markdown",
   "metadata": {},
   "source": [
    "A função `read_csv` carrega os dados contidos no CSV e retorna um dataframe pronto para trabalharmos com estes dados"
   ]
  },
  {
   "cell_type": "code",
   "execution_count": 32,
   "metadata": {},
   "outputs": [
    {
     "data": {
      "text/html": [
       "<div>\n",
       "<style scoped>\n",
       "    .dataframe tbody tr th:only-of-type {\n",
       "        vertical-align: middle;\n",
       "    }\n",
       "\n",
       "    .dataframe tbody tr th {\n",
       "        vertical-align: top;\n",
       "    }\n",
       "\n",
       "    .dataframe thead th {\n",
       "        text-align: right;\n",
       "    }\n",
       "</style>\n",
       "<table border=\"1\" class=\"dataframe\">\n",
       "  <thead>\n",
       "    <tr style=\"text-align: right;\">\n",
       "      <th></th>\n",
       "      <th>Type</th>\n",
       "      <th>Count</th>\n",
       "    </tr>\n",
       "  </thead>\n",
       "  <tbody>\n",
       "    <tr>\n",
       "      <th>0</th>\n",
       "      <td>Timely filling</td>\n",
       "      <td>13245</td>\n",
       "    </tr>\n",
       "    <tr>\n",
       "      <th>1</th>\n",
       "      <td>Medical Necessety</td>\n",
       "      <td>1423</td>\n",
       "    </tr>\n",
       "    <tr>\n",
       "      <th>2</th>\n",
       "      <td>Duplicate claim</td>\n",
       "      <td>18012</td>\n",
       "    </tr>\n",
       "    <tr>\n",
       "      <th>3</th>\n",
       "      <td>Clain lack information</td>\n",
       "      <td>4548</td>\n",
       "    </tr>\n",
       "    <tr>\n",
       "      <th>4</th>\n",
       "      <td>No Benefeciary found</td>\n",
       "      <td>10215</td>\n",
       "    </tr>\n",
       "    <tr>\n",
       "      <th>5</th>\n",
       "      <td>Service not covered</td>\n",
       "      <td>2154</td>\n",
       "    </tr>\n",
       "    <tr>\n",
       "      <th>6</th>\n",
       "      <td>Date of service issue</td>\n",
       "      <td>526</td>\n",
       "    </tr>\n",
       "  </tbody>\n",
       "</table>\n",
       "</div>"
      ],
      "text/plain": [
       "                     Type  Count\n",
       "0          Timely filling  13245\n",
       "1       Medical Necessety   1423\n",
       "2         Duplicate claim  18012\n",
       "3  Clain lack information   4548\n",
       "4    No Benefeciary found  10215\n",
       "5     Service not covered   2154\n",
       "6   Date of service issue    526"
      ]
     },
     "execution_count": 32,
     "metadata": {},
     "output_type": "execute_result"
    }
   ],
   "source": [
    "filename = \"ch05p071.txt\"\n",
    "df = pd.read_csv(filename)\n",
    "df"
   ]
  },
  {
   "cell_type": "markdown",
   "metadata": {},
   "source": [
    "2. Preparar os dados carregados, ordenando-os de forma decrescente.\n",
    "\n",
    "A função `sort_values` do dataframe reordena os dados; para isso, passamos o nome da coluna a ordenar e o `ascending=False` como critério de ordenação"
   ]
  },
  {
   "cell_type": "code",
   "execution_count": 33,
   "metadata": {},
   "outputs": [
    {
     "data": {
      "text/html": [
       "<div>\n",
       "<style scoped>\n",
       "    .dataframe tbody tr th:only-of-type {\n",
       "        vertical-align: middle;\n",
       "    }\n",
       "\n",
       "    .dataframe tbody tr th {\n",
       "        vertical-align: top;\n",
       "    }\n",
       "\n",
       "    .dataframe thead th {\n",
       "        text-align: right;\n",
       "    }\n",
       "</style>\n",
       "<table border=\"1\" class=\"dataframe\">\n",
       "  <thead>\n",
       "    <tr style=\"text-align: right;\">\n",
       "      <th></th>\n",
       "      <th>Type</th>\n",
       "      <th>Count</th>\n",
       "    </tr>\n",
       "  </thead>\n",
       "  <tbody>\n",
       "    <tr>\n",
       "      <th>2</th>\n",
       "      <td>Duplicate claim</td>\n",
       "      <td>18012</td>\n",
       "    </tr>\n",
       "    <tr>\n",
       "      <th>0</th>\n",
       "      <td>Timely filling</td>\n",
       "      <td>13245</td>\n",
       "    </tr>\n",
       "    <tr>\n",
       "      <th>4</th>\n",
       "      <td>No Benefeciary found</td>\n",
       "      <td>10215</td>\n",
       "    </tr>\n",
       "    <tr>\n",
       "      <th>3</th>\n",
       "      <td>Clain lack information</td>\n",
       "      <td>4548</td>\n",
       "    </tr>\n",
       "    <tr>\n",
       "      <th>5</th>\n",
       "      <td>Service not covered</td>\n",
       "      <td>2154</td>\n",
       "    </tr>\n",
       "    <tr>\n",
       "      <th>1</th>\n",
       "      <td>Medical Necessety</td>\n",
       "      <td>1423</td>\n",
       "    </tr>\n",
       "    <tr>\n",
       "      <th>6</th>\n",
       "      <td>Date of service issue</td>\n",
       "      <td>526</td>\n",
       "    </tr>\n",
       "  </tbody>\n",
       "</table>\n",
       "</div>"
      ],
      "text/plain": [
       "                     Type  Count\n",
       "2         Duplicate claim  18012\n",
       "0          Timely filling  13245\n",
       "4    No Benefeciary found  10215\n",
       "3  Clain lack information   4548\n",
       "5     Service not covered   2154\n",
       "1       Medical Necessety   1423\n",
       "6   Date of service issue    526"
      ]
     },
     "execution_count": 33,
     "metadata": {},
     "output_type": "execute_result"
    }
   ],
   "source": [
    "df = df.sort_values(by=\"Count\",ascending=False)\n",
    "df"
   ]
  },
  {
   "cell_type": "markdown",
   "metadata": {},
   "source": [
    "3. Cria uma nova coluna 'Percent', resultado do calculo do valor de cada item da coluna 'Count' sobre o total desta coluna"
   ]
  },
  {
   "cell_type": "code",
   "execution_count": 34,
   "metadata": {},
   "outputs": [
    {
     "data": {
      "text/html": [
       "<div>\n",
       "<style scoped>\n",
       "    .dataframe tbody tr th:only-of-type {\n",
       "        vertical-align: middle;\n",
       "    }\n",
       "\n",
       "    .dataframe tbody tr th {\n",
       "        vertical-align: top;\n",
       "    }\n",
       "\n",
       "    .dataframe thead th {\n",
       "        text-align: right;\n",
       "    }\n",
       "</style>\n",
       "<table border=\"1\" class=\"dataframe\">\n",
       "  <thead>\n",
       "    <tr style=\"text-align: right;\">\n",
       "      <th></th>\n",
       "      <th>Type</th>\n",
       "      <th>Count</th>\n",
       "      <th>Percent</th>\n",
       "    </tr>\n",
       "  </thead>\n",
       "  <tbody>\n",
       "    <tr>\n",
       "      <th>2</th>\n",
       "      <td>Duplicate claim</td>\n",
       "      <td>18012</td>\n",
       "      <td>35.935598</td>\n",
       "    </tr>\n",
       "    <tr>\n",
       "      <th>0</th>\n",
       "      <td>Timely filling</td>\n",
       "      <td>13245</td>\n",
       "      <td>26.424995</td>\n",
       "    </tr>\n",
       "    <tr>\n",
       "      <th>4</th>\n",
       "      <td>No Benefeciary found</td>\n",
       "      <td>10215</td>\n",
       "      <td>20.379866</td>\n",
       "    </tr>\n",
       "    <tr>\n",
       "      <th>3</th>\n",
       "      <td>Clain lack information</td>\n",
       "      <td>4548</td>\n",
       "      <td>9.073679</td>\n",
       "    </tr>\n",
       "    <tr>\n",
       "      <th>5</th>\n",
       "      <td>Service not covered</td>\n",
       "      <td>2154</td>\n",
       "      <td>4.297428</td>\n",
       "    </tr>\n",
       "    <tr>\n",
       "      <th>1</th>\n",
       "      <td>Medical Necessety</td>\n",
       "      <td>1423</td>\n",
       "      <td>2.839016</td>\n",
       "    </tr>\n",
       "    <tr>\n",
       "      <th>6</th>\n",
       "      <td>Date of service issue</td>\n",
       "      <td>526</td>\n",
       "      <td>1.049418</td>\n",
       "    </tr>\n",
       "  </tbody>\n",
       "</table>\n",
       "</div>"
      ],
      "text/plain": [
       "                     Type  Count    Percent\n",
       "2         Duplicate claim  18012  35.935598\n",
       "0          Timely filling  13245  26.424995\n",
       "4    No Benefeciary found  10215  20.379866\n",
       "3  Clain lack information   4548   9.073679\n",
       "5     Service not covered   2154   4.297428\n",
       "1       Medical Necessety   1423   2.839016\n",
       "6   Date of service issue    526   1.049418"
      ]
     },
     "execution_count": 34,
     "metadata": {},
     "output_type": "execute_result"
    }
   ],
   "source": [
    "df[\"Percent\"] = df[\"Count\"]/df[\"Count\"].sum() * 100\n",
    "df"
   ]
  },
  {
   "cell_type": "markdown",
   "metadata": {},
   "source": [
    "4. Calcula a coluna que acumula os valores de percentagem, consistindo na coluna de Pareto"
   ]
  },
  {
   "cell_type": "code",
   "execution_count": 35,
   "metadata": {},
   "outputs": [
    {
     "data": {
      "text/html": [
       "<div>\n",
       "<style scoped>\n",
       "    .dataframe tbody tr th:only-of-type {\n",
       "        vertical-align: middle;\n",
       "    }\n",
       "\n",
       "    .dataframe tbody tr th {\n",
       "        vertical-align: top;\n",
       "    }\n",
       "\n",
       "    .dataframe thead th {\n",
       "        text-align: right;\n",
       "    }\n",
       "</style>\n",
       "<table border=\"1\" class=\"dataframe\">\n",
       "  <thead>\n",
       "    <tr style=\"text-align: right;\">\n",
       "      <th></th>\n",
       "      <th>Type</th>\n",
       "      <th>Count</th>\n",
       "      <th>Percent</th>\n",
       "      <th>CumPercent</th>\n",
       "    </tr>\n",
       "  </thead>\n",
       "  <tbody>\n",
       "    <tr>\n",
       "      <th>2</th>\n",
       "      <td>Duplicate claim</td>\n",
       "      <td>18012</td>\n",
       "      <td>35.935598</td>\n",
       "      <td>35.935598</td>\n",
       "    </tr>\n",
       "    <tr>\n",
       "      <th>0</th>\n",
       "      <td>Timely filling</td>\n",
       "      <td>13245</td>\n",
       "      <td>26.424995</td>\n",
       "      <td>62.360593</td>\n",
       "    </tr>\n",
       "    <tr>\n",
       "      <th>4</th>\n",
       "      <td>No Benefeciary found</td>\n",
       "      <td>10215</td>\n",
       "      <td>20.379866</td>\n",
       "      <td>82.740458</td>\n",
       "    </tr>\n",
       "    <tr>\n",
       "      <th>3</th>\n",
       "      <td>Clain lack information</td>\n",
       "      <td>4548</td>\n",
       "      <td>9.073679</td>\n",
       "      <td>91.814137</td>\n",
       "    </tr>\n",
       "    <tr>\n",
       "      <th>5</th>\n",
       "      <td>Service not covered</td>\n",
       "      <td>2154</td>\n",
       "      <td>4.297428</td>\n",
       "      <td>96.111566</td>\n",
       "    </tr>\n",
       "    <tr>\n",
       "      <th>1</th>\n",
       "      <td>Medical Necessety</td>\n",
       "      <td>1423</td>\n",
       "      <td>2.839016</td>\n",
       "      <td>98.950582</td>\n",
       "    </tr>\n",
       "    <tr>\n",
       "      <th>6</th>\n",
       "      <td>Date of service issue</td>\n",
       "      <td>526</td>\n",
       "      <td>1.049418</td>\n",
       "      <td>100.000000</td>\n",
       "    </tr>\n",
       "  </tbody>\n",
       "</table>\n",
       "</div>"
      ],
      "text/plain": [
       "                     Type  Count    Percent  CumPercent\n",
       "2         Duplicate claim  18012  35.935598   35.935598\n",
       "0          Timely filling  13245  26.424995   62.360593\n",
       "4    No Benefeciary found  10215  20.379866   82.740458\n",
       "3  Clain lack information   4548   9.073679   91.814137\n",
       "5     Service not covered   2154   4.297428   96.111566\n",
       "1       Medical Necessety   1423   2.839016   98.950582\n",
       "6   Date of service issue    526   1.049418  100.000000"
      ]
     },
     "execution_count": 35,
     "metadata": {},
     "output_type": "execute_result"
    }
   ],
   "source": [
    "df[\"CumPercent\"] = df[\"Percent\"].cumsum()\n",
    "df"
   ]
  },
  {
   "cell_type": "markdown",
   "metadata": {},
   "source": [
    "5. Finalmente, plota o gráfico de Pareto\n",
    "\n",
    "Acompanhe os comentários no código abaixo:"
   ]
  },
  {
   "cell_type": "code",
   "execution_count": 37,
   "metadata": {},
   "outputs": [
    {
     "data": {
      "image/png": "[encoded data removed]",
      "text/plain": [
       "<Figure size 1440x720 with 2 Axes>"
      ]
     },
     "metadata": {},
     "output_type": "display_data"
    }
   ],
   "source": [
    "# Cria o barplot e define os dados os eixos, a cor das barras, titulo do gráfico\n",
    "fig, ax = plt.subplots(figsize=(20,10))\n",
    "ax.bar(df[\"Type\"], df[\"Count\"], color=\"C0\")\n",
    "ax.set_title(\"Pareto\")\n",
    "\n",
    "# Eixo secundário\n",
    "ax2 = ax.twinx()\n",
    "\n",
    "# Cria a Curva de Pareto no eixo secundário\n",
    "ax2.plot(df[\"Type\"], df[\"CumPercent\"], color=\"C1\", marker=\"D\", ms=7, label='Pareto')\n",
    "ax2.yaxis.set_major_formatter(PercentFormatter())\n",
    "\n",
    "# Configurações dos eixos \n",
    "ax.tick_params(axis=\"y\", colors=\"C0\")\n",
    "ax2.tick_params(axis=\"y\", colors=\"C1\")\n",
    "ax2.set_ylim([0,110])\n",
    "\n",
    "# Ajusta a inclinação dos labels do eixo x\n",
    "for tick in ax.get_xticklabels():\n",
    "    tick.set_rotation(45)\n",
    "\n",
    "# Finalmente mostra o grafico definido acima\n",
    "plt.legend() # para mostrar a legenda\n",
    "plt.show()"
   ]
  },
  {
   "cell_type": "markdown",
   "metadata": {},
   "source": [
    "## Solução Alternativa 1\n",
    "\n",
    "A biblioteca `seaborn` é desenvolvida com base na `matplotlib` e possui mais recursos de visualização."
   ]
  },
  {
   "cell_type": "code",
   "execution_count": 38,
   "metadata": {},
   "outputs": [],
   "source": [
    "import seaborn as sns"
   ]
  },
  {
   "cell_type": "code",
   "execution_count": 77,
   "metadata": {},
   "outputs": [
    {
     "data": {
      "image/png": "[encoded data removed]",
      "text/plain": [
       "<Figure size 1440x720 with 2 Axes>"
      ]
     },
     "metadata": {
      "needs_background": "light"
     },
     "output_type": "display_data"
    }
   ],
   "source": [
    "plt.figure(figsize=(20,10))\n",
    "ax = sns.barplot(x=df[\"Type\"], y=df[\"Count\"], palette=\"RdYlBu\")\n",
    "ax.set_title(\"Pareto\")\n",
    "\n",
    "# Eixo secundário\n",
    "ax2 = ax.twinx()\n",
    "\n",
    "# Cria a Curva de Pareto no eixo secundário\n",
    "ax2.plot(df[\"Type\"], df[\"CumPercent\"], color=\"g\", marker=\"D\", ms=7, label='Pareto')\n",
    "\n",
    "# Configurações dos eixos \n",
    "ax2.tick_params(axis=\"y\", colors=\"g\")\n",
    "ax2.set_ylim([0,110])\n",
    "\n",
    "# Ajusta a inclinação dos labels do eixo x\n",
    "for tick in ax.get_xticklabels():\n",
    "    tick.set_rotation(45)\n",
    "    \n",
    "gap = 5\n",
    "for i in range(len(df[\"CumPercent\"])):\n",
    "    ax2.annotate(\"%.2f\" % df[\"CumPercent\"][i], (df[\"Type\"][i], df[\"CumPercent\"][i] + gap))\n",
    "    "
   ]
  },
  {
   "cell_type": "markdown",
   "metadata": {},
   "source": [
    "## Referências\n",
    "\n",
    "Este notebook contém exemplos do livro **[Six Sigma: A Complete Step-by-Step Guide](https://www.sixsigmacouncil.org/wp-content/uploads/2018/08/Six-Sigma-A-Complete-Step-by-Step-Guide.pdf)** disponibilizado pelo [The Council for Six Sigma Certification](https://www.sixsigmacouncil.org/six-sigma-training-material/)\n",
    "\n",
    "Bibliotecas utilizadas:\n",
    "* [pandas](https://pandas.pydata.org/docs/index.html)\n",
    "* [matplotlib](https://matplotlib.org/index.html)\n",
    "* [seaborn](https://seaborn.pydata.org/index.html)"
   ]
  },
  {
   "cell_type": "code",
   "execution_count": 65,
   "metadata": {},
   "outputs": [
    {
     "data": {
      "text/plain": [
       "'62.36'"
      ]
     },
     "execution_count": 65,
     "metadata": {},
     "output_type": "execute_result"
    }
   ],
   "source": [
    "'%.2f' % df[\"CumPercent\"][0]"
   ]
  },
  {
   "cell_type": "code",
   "execution_count": 80,
   "metadata": {},
   "outputs": [
    {
     "data": {
      "text/plain": [
       "array([3.11561311, 2.20678493, 2.1050116 , 2.27238449, 2.49995194,\n",
       "       2.1859493 , 2.58059761, 2.46879926, 5.02063164, 3.86459678])"
      ]
     },
     "execution_count": 80,
     "metadata": {},
     "output_type": "execute_result"
    }
   ],
   "source": [
    "import numpy as np\n",
    "a, m = 3., 2.  # shape and mode\n",
    "\n",
    "s = (np.random.pareto(a, 10) + 1) * m\n",
    "s"
   ]
  },
  {
   "cell_type": "code",
   "execution_count": null,
   "metadata": {},
   "outputs": [],
   "source": []
  }
 ],
 "metadata": {
  "kernelspec": {
   "display_name": "Python 3",
   "language": "python",
   "name": "python3"
  },
  "language_info": {
   "codemirror_mode": {
    "name": "ipython",
    "version": 3
   },
   "file_extension": ".py",
   "mimetype": "text/x-python",
   "name": "python",
   "nbconvert_exporter": "python",
   "pygments_lexer": "ipython3",
   "version": "3.7.7"
  }
 },
 "nbformat": 4,
 "nbformat_minor": 4
}
