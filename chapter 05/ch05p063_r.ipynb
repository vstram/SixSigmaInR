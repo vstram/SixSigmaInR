{
 "cells": [
  {
   "cell_type": "markdown",
   "metadata": {},
   "source": [
    "# Exercícios do livro Six Sigma: A Complete Step-by-Step Guide\n",
    "\n",
    "Este notebook contém exemplos e/ou exercícios do livro **[Six Sigma: A Complete Step-by-Step Guide](https://www.sixsigmacouncil.org/wp-content/uploads/2018/08/Six-Sigma-A-Complete-Step-by-Step-Guide.pdf)** disponibilizado pelo [The Council for Six Sigma Certification](https://www.sixsigmacouncil.org/six-sigma-training-material/)\n",
    "\n",
    "![Six Sigma: A Complete Step-by-Step Guide](https://raw.githubusercontent.com/vstram/SixSigmaInR/master/book_cover-small.jpg)\n",
    "\n"
   ]
  },
  {
   "cell_type": "markdown",
   "metadata": {},
   "source": [
    "## Conteúdo:\n",
    "* [Exercício](#Exercício)\n",
    "* [Procedimento](#Procedimento)\n",
    "* [Observações](#Observações)\n",
    "* [Referências](#Referências)"
   ]
  },
  {
   "cell_type": "markdown",
   "metadata": {},
   "source": [
    "## Exercício\n",
    "\n",
    "Neste primeiro exemplo (pág 63), o livro apresenta as notas de 15 alunos que devem ser avaliadas através do cálculo do desvio padrão. As notas dos alunos são:\n",
    "\n",
    "```\n",
    "67, 68, 73, 74, 81, 85, 88, 88, 90, 90, 90, 93, 94, 98, 99\n",
    "```"
   ]
  },
  {
   "cell_type": "markdown",
   "metadata": {},
   "source": [
    "## Procedimento\n",
    "\n",
    "1. Criar um vector para armazenar as notas dos alunos com a função `c - combine`"
   ]
  },
  {
   "cell_type": "code",
   "execution_count": 1,
   "metadata": {},
   "outputs": [
    {
     "data": {
      "text/html": [
       "<style>\n",
       ".list-inline {list-style: none; margin:0; padding: 0}\n",
       ".list-inline>li {display: inline-block}\n",
       ".list-inline>li:not(:last-child)::after {content: \"\\00b7\"; padding: 0 .5ex}\n",
       "</style>\n",
       "<ol class=list-inline><li>67</li><li>68</li><li>73</li><li>74</li><li>81</li><li>85</li><li>88</li><li>88</li><li>90</li><li>90</li><li>90</li><li>93</li><li>94</li><li>98</li><li>99</li></ol>\n"
      ],
      "text/latex": [
       "\\begin{enumerate*}\n",
       "\\item 67\n",
       "\\item 68\n",
       "\\item 73\n",
       "\\item 74\n",
       "\\item 81\n",
       "\\item 85\n",
       "\\item 88\n",
       "\\item 88\n",
       "\\item 90\n",
       "\\item 90\n",
       "\\item 90\n",
       "\\item 93\n",
       "\\item 94\n",
       "\\item 98\n",
       "\\item 99\n",
       "\\end{enumerate*}\n"
      ],
      "text/markdown": [
       "1. 67\n",
       "2. 68\n",
       "3. 73\n",
       "4. 74\n",
       "5. 81\n",
       "6. 85\n",
       "7. 88\n",
       "8. 88\n",
       "9. 90\n",
       "10. 90\n",
       "11. 90\n",
       "12. 93\n",
       "13. 94\n",
       "14. 98\n",
       "15. 99\n",
       "\n",
       "\n"
      ],
      "text/plain": [
       " [1] 67 68 73 74 81 85 88 88 90 90 90 93 94 98 99"
      ]
     },
     "metadata": {},
     "output_type": "display_data"
    }
   ],
   "source": [
    "v <- c(67, 68, 73, 74, 81, 85, 88, 88, 90, 90, 90, 93, 94, 98, 99)\n",
    "v"
   ]
  },
  {
   "cell_type": "markdown",
   "metadata": {},
   "source": [
    "2. Calcular a média dos valores deste vector.\n",
    "\n",
    "Equivalente à: $\\mu = \\frac{1}{n}\\sum_{i}^{n} x_{i}$"
   ]
  },
  {
   "cell_type": "code",
   "execution_count": 2,
   "metadata": {},
   "outputs": [
    {
     "data": {
      "text/html": [
       "85.2"
      ],
      "text/latex": [
       "85.2"
      ],
      "text/markdown": [
       "85.2"
      ],
      "text/plain": [
       "[1] 85.2"
      ]
     },
     "metadata": {},
     "output_type": "display_data"
    }
   ],
   "source": [
    "mean_v <- mean(v)\n",
    "mean_v"
   ]
  },
  {
   "cell_type": "markdown",
   "metadata": {},
   "source": [
    "3. Subtrair a média de cada elemento do vector e elevar ao quadrado\n",
    "\n",
    "Realizamos a operação de subtração entre parênteses e depois usamos o operador ```^2``` para elevar ao quadrado. Esta operação é realizada em cada elemento do vector\n",
    "\n",
    "Equivalente à: $(x_{i} - \\mu)^{2}$"
   ]
  },
  {
   "cell_type": "code",
   "execution_count": 3,
   "metadata": {},
   "outputs": [
    {
     "data": {
      "text/html": [
       "<style>\n",
       ".list-inline {list-style: none; margin:0; padding: 0}\n",
       ".list-inline>li {display: inline-block}\n",
       ".list-inline>li:not(:last-child)::after {content: \"\\00b7\"; padding: 0 .5ex}\n",
       "</style>\n",
       "<ol class=list-inline><li>331.24</li><li>295.84</li><li>148.84</li><li>125.44</li><li>17.64</li><li>0.0400000000000011</li><li>7.83999999999998</li><li>7.83999999999998</li><li>23.04</li><li>23.04</li><li>23.04</li><li>60.84</li><li>77.44</li><li>163.84</li><li>190.44</li></ol>\n"
      ],
      "text/latex": [
       "\\begin{enumerate*}\n",
       "\\item 331.24\n",
       "\\item 295.84\n",
       "\\item 148.84\n",
       "\\item 125.44\n",
       "\\item 17.64\n",
       "\\item 0.0400000000000011\n",
       "\\item 7.83999999999998\n",
       "\\item 7.83999999999998\n",
       "\\item 23.04\n",
       "\\item 23.04\n",
       "\\item 23.04\n",
       "\\item 60.84\n",
       "\\item 77.44\n",
       "\\item 163.84\n",
       "\\item 190.44\n",
       "\\end{enumerate*}\n"
      ],
      "text/markdown": [
       "1. 331.24\n",
       "2. 295.84\n",
       "3. 148.84\n",
       "4. 125.44\n",
       "5. 17.64\n",
       "6. 0.0400000000000011\n",
       "7. 7.83999999999998\n",
       "8. 7.83999999999998\n",
       "9. 23.04\n",
       "10. 23.04\n",
       "11. 23.04\n",
       "12. 60.84\n",
       "13. 77.44\n",
       "14. 163.84\n",
       "15. 190.44\n",
       "\n",
       "\n"
      ],
      "text/plain": [
       " [1] 331.24 295.84 148.84 125.44  17.64   0.04   7.84   7.84  23.04  23.04\n",
       "[11]  23.04  60.84  77.44 163.84 190.44"
      ]
     },
     "metadata": {},
     "output_type": "display_data"
    }
   ],
   "source": [
    "v_minus_mean_v_sq2 <-(v - mean_v) ^ 2\n",
    "v_minus_mean_v_sq2"
   ]
  },
  {
   "cell_type": "markdown",
   "metadata": {},
   "source": [
    "4. Calcular a média dos valores para encontrar a variância de todos os valores do vetor, isto é, em __toda a população__.\n",
    "\n",
    "Equivalente à expressão: $s^{2} = \\frac{1}{n}\\sum_{i}^{n} (x_{i} - \\mu)^{2}$"
   ]
  },
  {
   "cell_type": "code",
   "execution_count": 4,
   "metadata": {},
   "outputs": [
    {
     "data": {
      "text/html": [
       "99.76"
      ],
      "text/latex": [
       "99.76"
      ],
      "text/markdown": [
       "99.76"
      ],
      "text/plain": [
       "[1] 99.76"
      ]
     },
     "metadata": {},
     "output_type": "display_data"
    }
   ],
   "source": [
    "variance <- mean(v_minus_mean_v_sq2)\n",
    "variance"
   ]
  },
  {
   "cell_type": "markdown",
   "metadata": {},
   "source": [
    "5. Calcular a raiz quadrada da variância para obter o desvio padrão. Usar a função ```sqrt```\n",
    "\n",
    "Equivalente à: $s = \\sqrt{\\frac{1}{n} \\sum_{i}^{n} (x_{i} - \\mu)^{2}}$"
   ]
  },
  {
   "cell_type": "code",
   "execution_count": 5,
   "metadata": {},
   "outputs": [
    {
     "data": {
      "text/html": [
       "9.98799279134702"
      ],
      "text/latex": [
       "9.98799279134702"
      ],
      "text/markdown": [
       "9.98799279134702"
      ],
      "text/plain": [
       "[1] 9.987993"
      ]
     },
     "metadata": {},
     "output_type": "display_data"
    }
   ],
   "source": [
    "std_dev <- sqrt(variance)\n",
    "std_dev"
   ]
  },
  {
   "cell_type": "markdown",
   "metadata": {},
   "source": [
    "## Observações\n",
    "\n",
    "1. A fórmula apresentada neste exemplo para o cálculo da variância e do desvio padrão deve ser usada apenas quando estão disponíveis todos os dados a serem analisados (e não em uma amostra dos dados). Tal cálculo também é conhecido como \"desvio padrão de uma população finita\".\n",
    "1. **IMPORTANTE**: A _Biblioteca Stats_ da linguagem ```r``` possui funções prontas para o cálculo da variância (```var```) e do desvio padrão (```sd```). Entretanto, tais funções devem ser usadas apenas em uma amostra de dados de uma população infinita. Se deseja calcular estes valores para a população inteira (como neste presente exemplo), executando a chamada de apenas uma única função, deve usar uma outra biblioteca de funções como a [multicon](https://www.rdocumentation.org/packages/multicon/versions/1.6). Neste caso, a função a ser usada é ```popsd```: [consulte a documentação aqui](https://www.rdocumentation.org/packages/multicon/versions/1.6/topics/popsd)"
   ]
  },
  {
   "cell_type": "code",
   "execution_count": 6,
   "metadata": {},
   "outputs": [
    {
     "name": "stdout",
     "output_type": "stream",
     "text": [
      "[1] \"Variância para uma amostra (Biblioteca Stats):\"\n"
     ]
    },
    {
     "data": {
      "text/html": [
       "106.885714285714"
      ],
      "text/latex": [
       "106.885714285714"
      ],
      "text/markdown": [
       "106.885714285714"
      ],
      "text/plain": [
       "[1] 106.8857"
      ]
     },
     "metadata": {},
     "output_type": "display_data"
    },
    {
     "name": "stdout",
     "output_type": "stream",
     "text": [
      "[1] \"Desvio Padrão para uma amostra (Biblioteca Stats):\"\n"
     ]
    },
    {
     "data": {
      "text/html": [
       "10.3385547484024"
      ],
      "text/latex": [
       "10.3385547484024"
      ],
      "text/markdown": [
       "10.3385547484024"
      ],
      "text/plain": [
       "[1] 10.33855"
      ]
     },
     "metadata": {},
     "output_type": "display_data"
    },
    {
     "name": "stdout",
     "output_type": "stream",
     "text": [
      "[1] \"Desvio Padrão para uma população (Biblioteca Multicon):\"\n"
     ]
    },
    {
     "data": {
      "text/html": [
       "9.98799279134702"
      ],
      "text/latex": [
       "9.98799279134702"
      ],
      "text/markdown": [
       "9.98799279134702"
      ],
      "text/plain": [
       "[1] 9.987993"
      ]
     },
     "metadata": {},
     "output_type": "display_data"
    }
   ],
   "source": [
    "# cálculo da variância e do desvio padrão usando as funções da Biblioteca Stats do r\n",
    "print(\"Variância para uma amostra (Biblioteca Stats):\")\n",
    "var(v)\n",
    "print(\"Desvio Padrão para uma amostra (Biblioteca Stats):\")\n",
    "sd(v)\n",
    "\n",
    "# antes, instale a Biblioteca Multicon com o comando: install.packages(multicon)\n",
    "library(multicon, quietly = TRUE) \n",
    "\n",
    "print(\"Desvio Padrão para uma população (Biblioteca Multicon):\")\n",
    "popsd(v) # informação da documentação: \"Returns the population standard deviation of x\""
   ]
  },
  {
   "cell_type": "markdown",
   "metadata": {},
   "source": [
    "## Referências\n",
    "\n",
    "1. [R Language HTML Reference](https://cran.r-project.org/doc/manuals/r-release/R-intro.html)\n",
    "1. [Vectors and assignment](https://cran.r-project.org/doc/manuals/r-release/R-intro.html#Vectors-and-assignment)"
   ]
  }
 ],
 "metadata": {
  "kernelspec": {
   "display_name": "R",
   "language": "R",
   "name": "ir"
  },
  "language_info": {
   "codemirror_mode": "r",
   "file_extension": ".r",
   "mimetype": "text/x-r-source",
   "name": "R",
   "pygments_lexer": "r",
   "version": "4.0.2"
  }
 },
 "nbformat": 4,
 "nbformat_minor": 4
}
