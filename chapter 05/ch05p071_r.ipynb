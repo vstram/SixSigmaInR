{
 "cells": [
  {
   "cell_type": "markdown",
   "metadata": {},
   "source": [
    "Notebook em **R** que mostra procedimentos para a obtenção do **Gráfico de Pareto** a partir de um exemplo do livro **[Six Sigma: A Complete Step-by-Step Guide](https://www.sixsigmacouncil.org/wp-content/uploads/2018/08/Six-Sigma-A-Complete-Step-by-Step-Guide.pdf)**\n",
    "\n",
    "<!-- TEASER_END -->"
   ]
  },
  {
   "cell_type": "markdown",
   "metadata": {},
   "source": [
    "# Exemplos do livro Six Sigma: A Complete Step-by-Step Guide\n",
    "\n",
    "![Six Sigma: A Complete Step-by-Step Guide](https://raw.githubusercontent.com/vstram/SixSigmaInR/master/book_cover-small.jpg)"
   ]
  },
  {
   "cell_type": "markdown",
   "metadata": {},
   "source": [
    "## Conteúdo:\n",
    "* [Exercício](#Exercício)\n",
    "* [Procedimento](#Procedimento)\n",
    "* [Solução Alternativa 1](#Solução-Alternativa-1)\n",
    "* [Solução Alternativa 2](#Solução-Alternativa-2)\n",
    "* [Referências](#Referências)"
   ]
  },
  {
   "cell_type": "markdown",
   "metadata": {},
   "source": [
    "## Exercício\n",
    "\n",
    "Exemplo (pág 71), refere-se a uma clinica médica com problemas de caixa devido à recusas de serviço médico. As razões para as recusas estão listadas no arquivo \"ch05p071.txt\".\n",
    "\n",
    "Pede-se para plotar o Gráfico de Pareto para avaliar as principais causas deste problema."
   ]
  },
  {
   "cell_type": "markdown",
   "metadata": {},
   "source": [
    "### Procedimento\n",
    "\n",
    "1. Carregar os dados do arquivo"
   ]
  },
  {
   "cell_type": "code",
   "execution_count": 1,
   "metadata": {},
   "outputs": [],
   "source": [
    "options(repr.plot.width=16, repr.plot.height=8) # define um tamanho padrão para o gráfico"
   ]
  },
  {
   "cell_type": "code",
   "execution_count": 2,
   "metadata": {},
   "outputs": [
    {
     "data": {
      "text/html": [
       "<table>\n",
       "<caption>A data.frame: 7 × 2</caption>\n",
       "<thead>\n",
       "\t<tr><th scope=col>Type</th><th scope=col>Count</th></tr>\n",
       "\t<tr><th scope=col>&lt;chr&gt;</th><th scope=col>&lt;int&gt;</th></tr>\n",
       "</thead>\n",
       "<tbody>\n",
       "\t<tr><td>Timely filling        </td><td>13245</td></tr>\n",
       "\t<tr><td>Medical Necessety     </td><td> 1423</td></tr>\n",
       "\t<tr><td>Duplicate claim       </td><td>18012</td></tr>\n",
       "\t<tr><td>Clain lack information</td><td> 4548</td></tr>\n",
       "\t<tr><td>No Benefeciary found  </td><td>10215</td></tr>\n",
       "\t<tr><td>Service not covered   </td><td> 2154</td></tr>\n",
       "\t<tr><td>Date of service issue </td><td>  526</td></tr>\n",
       "</tbody>\n",
       "</table>\n"
      ],
      "text/latex": [
       "A data.frame: 7 × 2\n",
       "\\begin{tabular}{ll}\n",
       " Type & Count\\\\\n",
       " <chr> & <int>\\\\\n",
       "\\hline\n",
       "\t Timely filling         & 13245\\\\\n",
       "\t Medical Necessety      &  1423\\\\\n",
       "\t Duplicate claim        & 18012\\\\\n",
       "\t Clain lack information &  4548\\\\\n",
       "\t No Benefeciary found   & 10215\\\\\n",
       "\t Service not covered    &  2154\\\\\n",
       "\t Date of service issue  &   526\\\\\n",
       "\\end{tabular}\n"
      ],
      "text/markdown": [
       "\n",
       "A data.frame: 7 × 2\n",
       "\n",
       "| Type &lt;chr&gt; | Count &lt;int&gt; |\n",
       "|---|---|\n",
       "| Timely filling         | 13245 |\n",
       "| Medical Necessety      |  1423 |\n",
       "| Duplicate claim        | 18012 |\n",
       "| Clain lack information |  4548 |\n",
       "| No Benefeciary found   | 10215 |\n",
       "| Service not covered    |  2154 |\n",
       "| Date of service issue  |   526 |\n",
       "\n"
      ],
      "text/plain": [
       "  Type                   Count\n",
       "1 Timely filling         13245\n",
       "2 Medical Necessety       1423\n",
       "3 Duplicate claim        18012\n",
       "4 Clain lack information  4548\n",
       "5 No Benefeciary found   10215\n",
       "6 Service not covered     2154\n",
       "7 Date of service issue    526"
      ]
     },
     "metadata": {},
     "output_type": "display_data"
    }
   ],
   "source": [
    "# Obtém os dados do arquivo\n",
    "data <-read.csv(\"ch05p071.txt\", header=TRUE)\n",
    "data"
   ]
  },
  {
   "cell_type": "markdown",
   "metadata": {},
   "source": [
    "2. Prepara os dados carregados, ordenando-os de forma decrescente."
   ]
  },
  {
   "cell_type": "code",
   "execution_count": 3,
   "metadata": {},
   "outputs": [
    {
     "data": {
      "text/html": [
       "<table>\n",
       "<caption>A data.frame: 7 × 2</caption>\n",
       "<thead>\n",
       "\t<tr><th></th><th scope=col>Type</th><th scope=col>Count</th></tr>\n",
       "\t<tr><th></th><th scope=col>&lt;chr&gt;</th><th scope=col>&lt;int&gt;</th></tr>\n",
       "</thead>\n",
       "<tbody>\n",
       "\t<tr><th scope=row>3</th><td>Duplicate claim       </td><td>18012</td></tr>\n",
       "\t<tr><th scope=row>1</th><td>Timely filling        </td><td>13245</td></tr>\n",
       "\t<tr><th scope=row>5</th><td>No Benefeciary found  </td><td>10215</td></tr>\n",
       "\t<tr><th scope=row>4</th><td>Clain lack information</td><td> 4548</td></tr>\n",
       "\t<tr><th scope=row>6</th><td>Service not covered   </td><td> 2154</td></tr>\n",
       "\t<tr><th scope=row>2</th><td>Medical Necessety     </td><td> 1423</td></tr>\n",
       "\t<tr><th scope=row>7</th><td>Date of service issue </td><td>  526</td></tr>\n",
       "</tbody>\n",
       "</table>\n"
      ],
      "text/latex": [
       "A data.frame: 7 × 2\n",
       "\\begin{tabular}{r|ll}\n",
       "  & Type & Count\\\\\n",
       "  & <chr> & <int>\\\\\n",
       "\\hline\n",
       "\t3 & Duplicate claim        & 18012\\\\\n",
       "\t1 & Timely filling         & 13245\\\\\n",
       "\t5 & No Benefeciary found   & 10215\\\\\n",
       "\t4 & Clain lack information &  4548\\\\\n",
       "\t6 & Service not covered    &  2154\\\\\n",
       "\t2 & Medical Necessety      &  1423\\\\\n",
       "\t7 & Date of service issue  &   526\\\\\n",
       "\\end{tabular}\n"
      ],
      "text/markdown": [
       "\n",
       "A data.frame: 7 × 2\n",
       "\n",
       "| <!--/--> | Type &lt;chr&gt; | Count &lt;int&gt; |\n",
       "|---|---|---|\n",
       "| 3 | Duplicate claim        | 18012 |\n",
       "| 1 | Timely filling         | 13245 |\n",
       "| 5 | No Benefeciary found   | 10215 |\n",
       "| 4 | Clain lack information |  4548 |\n",
       "| 6 | Service not covered    |  2154 |\n",
       "| 2 | Medical Necessety      |  1423 |\n",
       "| 7 | Date of service issue  |   526 |\n",
       "\n"
      ],
      "text/plain": [
       "  Type                   Count\n",
       "3 Duplicate claim        18012\n",
       "1 Timely filling         13245\n",
       "5 No Benefeciary found   10215\n",
       "4 Clain lack information  4548\n",
       "6 Service not covered     2154\n",
       "2 Medical Necessety       1423\n",
       "7 Date of service issue    526"
      ]
     },
     "metadata": {},
     "output_type": "display_data"
    }
   ],
   "source": [
    "# Ordena os dados da coluna Count de forma decrescente\n",
    "data <- data[order(-data$Count),];\n",
    "data"
   ]
  },
  {
   "cell_type": "markdown",
   "metadata": {},
   "source": [
    "3. Cria uma nova coluna 'Percent', resultado do calculo do valor de cada item da coluna 'Count' sobre o total desta coluna"
   ]
  },
  {
   "cell_type": "code",
   "execution_count": 4,
   "metadata": {},
   "outputs": [
    {
     "data": {
      "text/html": [
       "<table>\n",
       "<caption>A data.frame: 7 × 3</caption>\n",
       "<thead>\n",
       "\t<tr><th></th><th scope=col>Type</th><th scope=col>Count</th><th scope=col>Percent</th></tr>\n",
       "\t<tr><th></th><th scope=col>&lt;chr&gt;</th><th scope=col>&lt;int&gt;</th><th scope=col>&lt;dbl&gt;</th></tr>\n",
       "</thead>\n",
       "<tbody>\n",
       "\t<tr><th scope=row>3</th><td>Duplicate claim       </td><td>18012</td><td>35.935598</td></tr>\n",
       "\t<tr><th scope=row>1</th><td>Timely filling        </td><td>13245</td><td>26.424995</td></tr>\n",
       "\t<tr><th scope=row>5</th><td>No Benefeciary found  </td><td>10215</td><td>20.379866</td></tr>\n",
       "\t<tr><th scope=row>4</th><td>Clain lack information</td><td> 4548</td><td> 9.073679</td></tr>\n",
       "\t<tr><th scope=row>6</th><td>Service not covered   </td><td> 2154</td><td> 4.297428</td></tr>\n",
       "\t<tr><th scope=row>2</th><td>Medical Necessety     </td><td> 1423</td><td> 2.839016</td></tr>\n",
       "\t<tr><th scope=row>7</th><td>Date of service issue </td><td>  526</td><td> 1.049418</td></tr>\n",
       "</tbody>\n",
       "</table>\n"
      ],
      "text/latex": [
       "A data.frame: 7 × 3\n",
       "\\begin{tabular}{r|lll}\n",
       "  & Type & Count & Percent\\\\\n",
       "  & <chr> & <int> & <dbl>\\\\\n",
       "\\hline\n",
       "\t3 & Duplicate claim        & 18012 & 35.935598\\\\\n",
       "\t1 & Timely filling         & 13245 & 26.424995\\\\\n",
       "\t5 & No Benefeciary found   & 10215 & 20.379866\\\\\n",
       "\t4 & Clain lack information &  4548 &  9.073679\\\\\n",
       "\t6 & Service not covered    &  2154 &  4.297428\\\\\n",
       "\t2 & Medical Necessety      &  1423 &  2.839016\\\\\n",
       "\t7 & Date of service issue  &   526 &  1.049418\\\\\n",
       "\\end{tabular}\n"
      ],
      "text/markdown": [
       "\n",
       "A data.frame: 7 × 3\n",
       "\n",
       "| <!--/--> | Type &lt;chr&gt; | Count &lt;int&gt; | Percent &lt;dbl&gt; |\n",
       "|---|---|---|---|\n",
       "| 3 | Duplicate claim        | 18012 | 35.935598 |\n",
       "| 1 | Timely filling         | 13245 | 26.424995 |\n",
       "| 5 | No Benefeciary found   | 10215 | 20.379866 |\n",
       "| 4 | Clain lack information |  4548 |  9.073679 |\n",
       "| 6 | Service not covered    |  2154 |  4.297428 |\n",
       "| 2 | Medical Necessety      |  1423 |  2.839016 |\n",
       "| 7 | Date of service issue  |   526 |  1.049418 |\n",
       "\n"
      ],
      "text/plain": [
       "  Type                   Count Percent  \n",
       "3 Duplicate claim        18012 35.935598\n",
       "1 Timely filling         13245 26.424995\n",
       "5 No Benefeciary found   10215 20.379866\n",
       "4 Clain lack information  4548  9.073679\n",
       "6 Service not covered     2154  4.297428\n",
       "2 Medical Necessety       1423  2.839016\n",
       "7 Date of service issue    526  1.049418"
      ]
     },
     "metadata": {},
     "output_type": "display_data"
    }
   ],
   "source": [
    "# Cria uma nova coluna 'Percent' com o valor percentual de cada linha\n",
    "data$Percent <- data$Count / sum(data$Count) * 100;\n",
    "data"
   ]
  },
  {
   "cell_type": "markdown",
   "metadata": {},
   "source": [
    "4. Calcula a coluna que acumula os valores de percentagem, consistindo na coluna de Pareto"
   ]
  },
  {
   "cell_type": "code",
   "execution_count": 5,
   "metadata": {},
   "outputs": [
    {
     "data": {
      "text/html": [
       "<table>\n",
       "<caption>A data.frame: 7 × 4</caption>\n",
       "<thead>\n",
       "\t<tr><th></th><th scope=col>Type</th><th scope=col>Count</th><th scope=col>Percent</th><th scope=col>CumPercent</th></tr>\n",
       "\t<tr><th></th><th scope=col>&lt;chr&gt;</th><th scope=col>&lt;int&gt;</th><th scope=col>&lt;dbl&gt;</th><th scope=col>&lt;dbl&gt;</th></tr>\n",
       "</thead>\n",
       "<tbody>\n",
       "\t<tr><th scope=row>3</th><td>Duplicate claim       </td><td>18012</td><td>35.935598</td><td> 35.93560</td></tr>\n",
       "\t<tr><th scope=row>1</th><td>Timely filling        </td><td>13245</td><td>26.424995</td><td> 62.36059</td></tr>\n",
       "\t<tr><th scope=row>5</th><td>No Benefeciary found  </td><td>10215</td><td>20.379866</td><td> 82.74046</td></tr>\n",
       "\t<tr><th scope=row>4</th><td>Clain lack information</td><td> 4548</td><td> 9.073679</td><td> 91.81414</td></tr>\n",
       "\t<tr><th scope=row>6</th><td>Service not covered   </td><td> 2154</td><td> 4.297428</td><td> 96.11157</td></tr>\n",
       "\t<tr><th scope=row>2</th><td>Medical Necessety     </td><td> 1423</td><td> 2.839016</td><td> 98.95058</td></tr>\n",
       "\t<tr><th scope=row>7</th><td>Date of service issue </td><td>  526</td><td> 1.049418</td><td>100.00000</td></tr>\n",
       "</tbody>\n",
       "</table>\n"
      ],
      "text/latex": [
       "A data.frame: 7 × 4\n",
       "\\begin{tabular}{r|llll}\n",
       "  & Type & Count & Percent & CumPercent\\\\\n",
       "  & <chr> & <int> & <dbl> & <dbl>\\\\\n",
       "\\hline\n",
       "\t3 & Duplicate claim        & 18012 & 35.935598 &  35.93560\\\\\n",
       "\t1 & Timely filling         & 13245 & 26.424995 &  62.36059\\\\\n",
       "\t5 & No Benefeciary found   & 10215 & 20.379866 &  82.74046\\\\\n",
       "\t4 & Clain lack information &  4548 &  9.073679 &  91.81414\\\\\n",
       "\t6 & Service not covered    &  2154 &  4.297428 &  96.11157\\\\\n",
       "\t2 & Medical Necessety      &  1423 &  2.839016 &  98.95058\\\\\n",
       "\t7 & Date of service issue  &   526 &  1.049418 & 100.00000\\\\\n",
       "\\end{tabular}\n"
      ],
      "text/markdown": [
       "\n",
       "A data.frame: 7 × 4\n",
       "\n",
       "| <!--/--> | Type &lt;chr&gt; | Count &lt;int&gt; | Percent &lt;dbl&gt; | CumPercent &lt;dbl&gt; |\n",
       "|---|---|---|---|---|\n",
       "| 3 | Duplicate claim        | 18012 | 35.935598 |  35.93560 |\n",
       "| 1 | Timely filling         | 13245 | 26.424995 |  62.36059 |\n",
       "| 5 | No Benefeciary found   | 10215 | 20.379866 |  82.74046 |\n",
       "| 4 | Clain lack information |  4548 |  9.073679 |  91.81414 |\n",
       "| 6 | Service not covered    |  2154 |  4.297428 |  96.11157 |\n",
       "| 2 | Medical Necessety      |  1423 |  2.839016 |  98.95058 |\n",
       "| 7 | Date of service issue  |   526 |  1.049418 | 100.00000 |\n",
       "\n"
      ],
      "text/plain": [
       "  Type                   Count Percent   CumPercent\n",
       "3 Duplicate claim        18012 35.935598  35.93560 \n",
       "1 Timely filling         13245 26.424995  62.36059 \n",
       "5 No Benefeciary found   10215 20.379866  82.74046 \n",
       "4 Clain lack information  4548  9.073679  91.81414 \n",
       "6 Service not covered     2154  4.297428  96.11157 \n",
       "2 Medical Necessety       1423  2.839016  98.95058 \n",
       "7 Date of service issue    526  1.049418 100.00000 "
      ]
     },
     "metadata": {},
     "output_type": "display_data"
    }
   ],
   "source": [
    "# Cria uma nova coluna 'CumPercent' com os valores acumulados da coluna 'Percent'\n",
    "data$CumPercent <- cumsum(data$Percent);\n",
    "data"
   ]
  },
  {
   "cell_type": "markdown",
   "metadata": {},
   "source": [
    "5. Finalmente, plota o gráfico de Pareto"
   ]
  },
  {
   "cell_type": "code",
   "execution_count": 6,
   "metadata": {},
   "outputs": [
    {
     "data": {
      "image/png": "[encoded data removed]",
      "text/plain": [
       "plot without title"
      ]
     },
     "metadata": {
      "image/png": {
       "height": 480,
       "width": 960
      }
     },
     "output_type": "display_data"
    }
   ],
   "source": [
    "barplot(\n",
    "    data$Percent, \n",
    "    ylab=\"Percent\", \n",
    "    xlab=\"Category\", \n",
    "    names.arg=data$Type, \n",
    "    las=2, \n",
    "    ylim=c(0, 100)\n",
    ")\n",
    "\n",
    "# Plota a curva de Pareto\n",
    "lines(data$CumPercent)\n",
    "abline(h=80)"
   ]
  },
  {
   "cell_type": "markdown",
   "metadata": {},
   "source": [
    "## Solução Alternativa 1\n",
    "\n",
    "A solução apresentada acima utiliza somente as bibliotecas padrão do `r`. Entretanto, como podem observar, trata-se de uma solução trabalhosa e cujo resultado final, embora possa ser aprimorado, não é satisfatório visualmente.\n",
    "\n",
    "Desta forma, abaixo apresento uma outra solução, utilizando uma biblioteca para controle de qualidade chamada `qcc`.\n",
    "Instale com o comando abaixo:\n",
    "\n",
    "    install.packages(\"qcc\")"
   ]
  },
  {
   "cell_type": "code",
   "execution_count": 7,
   "metadata": {},
   "outputs": [
    {
     "name": "stderr",
     "output_type": "stream",
     "text": [
      "Package 'qcc' version 2.7\n",
      "\n",
      "Type 'citation(\"qcc\")' for citing this R package in publications.\n",
      "\n"
     ]
    }
   ],
   "source": [
    "# Importa a biblioteca\n",
    "library(\"qcc\", quietly = TRUE)"
   ]
  },
  {
   "cell_type": "code",
   "execution_count": 8,
   "metadata": {},
   "outputs": [
    {
     "data": {
      "image/png": "[encoded data removed]",
      "text/plain": [
       "plot without title"
      ]
     },
     "metadata": {
      "image/png": {
       "height": 480,
       "width": 960
      }
     },
     "output_type": "display_data"
    }
   ],
   "source": [
    "# define um vetor com os dados a serem plotados (coluna 'Count' do dataframe)\n",
    "count.of.claims <- data$Count\n",
    "# define um vetor com os nomes dos dados (coluna 'Type' do dataframe)\n",
    "names(count.of.claims) <- data$Type\n",
    "\n",
    "# cria uma tabela com os dadospara plotar o pareto (como fizemos manualmente acima)\n",
    "# e ao mesmo tempo mostra o grafico (plot=TRUE)\n",
    "pareto.data <- pareto.chart(\n",
    "    count.of.claims,\n",
    "    plot=TRUE,\n",
    "    ylab=\"Count\",\n",
    "    col=heat.colors(length(count.of.claims)), # define esquema de cores para as barras\n",
    "    ylab2 = \"Pareto %\", \n",
    "    main = \"Pareto Chart\", # Titulo do gráfico\n",
    "    las=3, # labels dos eixos na vertical\n",
    ")"
   ]
  },
  {
   "cell_type": "markdown",
   "metadata": {},
   "source": [
    "Caso queira inspecionar os dados usado para plotar o grafico:"
   ]
  },
  {
   "cell_type": "code",
   "execution_count": 9,
   "metadata": {},
   "outputs": [
    {
     "data": {
      "text/plain": [
       "                        \n",
       "Pareto chart analysis for count.of.claims\n",
       "                            Frequency    Cum.Freq.   Percentage Cum.Percent.\n",
       "  Duplicate claim        18012.000000 18012.000000    35.935598    35.935598\n",
       "  Timely filling         13245.000000 31257.000000    26.424995    62.360593\n",
       "  No Benefeciary found   10215.000000 41472.000000    20.379866    82.740458\n",
       "  Clain lack information  4548.000000 46020.000000     9.073679    91.814137\n",
       "  Service not covered     2154.000000 48174.000000     4.297428    96.111566\n",
       "  Medical Necessety       1423.000000 49597.000000     2.839016    98.950582\n",
       "  Date of service issue    526.000000 50123.000000     1.049418   100.000000"
      ]
     },
     "metadata": {},
     "output_type": "display_data"
    }
   ],
   "source": [
    "pareto.data"
   ]
  },
  {
   "cell_type": "markdown",
   "metadata": {},
   "source": [
    "Observe que o gráfico é bem mais interessante, e a função `pareto.chart` calcula automaticamente as estatísticas que são plotadas no Pareto. Além disso, pode-se facilmente definir um esquema de cores para as barras, permitindo ainda mais entedimento ao gráfico"
   ]
  },
  {
   "cell_type": "markdown",
   "metadata": {},
   "source": [
    "## Solução Alternativa 2"
   ]
  },
  {
   "cell_type": "markdown",
   "metadata": {},
   "source": [
    "Aqui usamos outra bibliotecas do `R`: a de uso genérico `ggplot2` e uma outra biblioteca para controle de qualidade chamada `ggQC`"
   ]
  },
  {
   "cell_type": "code",
   "execution_count": 10,
   "metadata": {},
   "outputs": [],
   "source": [
    "# Importa as bibliotecas necessárias\n",
    "library(ggplot2)\n",
    "library(ggQC) "
   ]
  },
  {
   "cell_type": "code",
   "execution_count": 11,
   "metadata": {},
   "outputs": [
    {
     "data": {
      "image/png": "[encoded data removed]",
      "text/plain": [
       "plot without title"
      ]
     },
     "metadata": {
      "image/png": {
       "height": 480,
       "width": 960
      }
     },
     "output_type": "display_data"
    }
   ],
   "source": [
    "ggplot(\n",
    "    data, \n",
    "    aes(x=Type, y=Count)\n",
    ") + stat_pareto(\n",
    "      point.color = \"red\",\n",
    "      point.size = 3,\n",
    "      line.color = \"black\",\n",
    "      line.size = 1,\n",
    "      bars.fill = c(\"red\", \"yellow\"),\n",
    "  ) + theme(\n",
    "      axis.text.x = element_text(angle = 90) # rotaciona os labels do eixo x\n",
    "  )"
   ]
  },
  {
   "cell_type": "markdown",
   "metadata": {},
   "source": [
    "## Referências\n",
    "\n",
    "Este notebook contém exemplos do livro **[Six Sigma: A Complete Step-by-Step Guide](https://www.sixsigmacouncil.org/wp-content/uploads/2018/08/Six-Sigma-A-Complete-Step-by-Step-Guide.pdf)** disponibilizado pelo [The Council for Six Sigma Certification](https://www.sixsigmacouncil.org/six-sigma-training-material/)\n",
    "\n",
    "Bibliotecas utilizadas:\n",
    "* [ggQC](https://www.rdocumentation.org/packages/ggQC/versions/0.0.31)\n",
    "* [qcc](https://luca-scr.github.io/qcc/index.html)\n",
    "* [ggplot2](https://ggplot2.tidyverse.org/)"
   ]
  }
 ],
 "metadata": {
  "kernelspec": {
   "display_name": "R",
   "language": "R",
   "name": "ir"
  },
  "language_info": {
   "codemirror_mode": "r",
   "file_extension": ".r",
   "mimetype": "text/x-r-source",
   "name": "R",
   "pygments_lexer": "r",
   "version": "4.0.2"
  }
 },
 "nbformat": 4,
 "nbformat_minor": 4
}
